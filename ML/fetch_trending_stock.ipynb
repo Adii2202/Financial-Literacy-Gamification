{
 "cells": [
  {
   "cell_type": "code",
   "execution_count": 47,
   "metadata": {},
   "outputs": [],
   "source": [
    "from bs4 import BeautifulSoup as bs\n",
    "import matplotlib.pyplot as plt\n",
    "import requests\n",
    "import re\n",
    "import pandas as pd"
   ]
  },
  {
   "cell_type": "code",
   "execution_count": 48,
   "metadata": {},
   "outputs": [],
   "source": [
    "url = \"https://finance.yahoo.com/trending-tickers/\"\n",
    "req = requests.get(url)\n",
    "soup = bs(req.content, \"html.parser\")\n"
   ]
  },
  {
   "cell_type": "code",
   "execution_count": 49,
   "metadata": {},
   "outputs": [],
   "source": [
    "stocks = []"
   ]
  },
  {
   "cell_type": "code",
   "execution_count": 50,
   "metadata": {},
   "outputs": [
    {
     "data": {
      "text/plain": [
       "[{'Symbol': '^GSPC', 'Name': 'S&P 500'},\n",
       " {'Symbol': 'INBS', 'Name': 'Intelligent Bio Solutions Inc.'},\n",
       " {'Symbol': '^RUT', 'Name': 'Russell 2000'},\n",
       " {'Symbol': 'SOL-USD', 'Name': 'Solana USD'},\n",
       " {'Symbol': 'ASML', 'Name': 'ASML Holding N.V.'},\n",
       " {'Symbol': 'O', 'Name': 'Realty Income Corporation'},\n",
       " {'Symbol': 'BRK-A', 'Name': 'Berkshire Hathaway Inc.'},\n",
       " {'Symbol': 'CSCO', 'Name': 'Cisco Systems, Inc.'},\n",
       " {'Symbol': 'XRP-USD', 'Name': 'XRP USD'},\n",
       " {'Symbol': 'SCHD', 'Name': 'Schwab U.S. Dividend Equity ETF'},\n",
       " {'Symbol': 'NVAX', 'Name': 'Novavax, Inc.'},\n",
       " {'Symbol': 'GERN', 'Name': 'Geron Corporation'},\n",
       " {'Symbol': 'VTI', 'Name': 'Vanguard Total Stock Market Index Fund'},\n",
       " {'Symbol': 'ETSY', 'Name': 'Etsy, Inc.'},\n",
       " {'Symbol': 'NYCB', 'Name': 'New York Community Bancorp, Inc.'}]"
      ]
     },
     "execution_count": 50,
     "metadata": {},
     "output_type": "execute_result"
    }
   ],
   "source": [
    "for row in soup.find_all('tr',{\"class\":\"simpTblRow Bgc($hoverBgColor):h BdB Bdbc($seperatorColor) Bdbc($tableBorderBlue):h H(32px) Bgc($lv2BgColor)\"}):\n",
    "    stock = {}\n",
    "    cnt = 0\n",
    "    for data in row.find_all('td'):\n",
    "        stock[data.get('aria-label')] = data.text\n",
    "        cnt+=1\n",
    "        if(cnt == 2):\n",
    "            break\n",
    "    stocks.append(stock)\n",
    "stocks"
   ]
  }
 ],
 "metadata": {
  "kernelspec": {
   "display_name": "ml",
   "language": "python",
   "name": "python3"
  },
  "language_info": {
   "codemirror_mode": {
    "name": "ipython",
    "version": 3
   },
   "file_extension": ".py",
   "mimetype": "text/x-python",
   "name": "python",
   "nbconvert_exporter": "python",
   "pygments_lexer": "ipython3",
   "version": "3.10.13"
  }
 },
 "nbformat": 4,
 "nbformat_minor": 2
}
