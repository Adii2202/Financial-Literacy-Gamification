{
 "cells": [
  {
   "cell_type": "code",
   "execution_count": 463,
   "metadata": {},
   "outputs": [],
   "source": [
    "import pandas as pd\n",
    "import numpy as np \n",
    "import yfinance as yf"
   ]
  },
  {
   "cell_type": "code",
   "execution_count": 464,
   "metadata": {},
   "outputs": [],
   "source": [
    "from sklearn.preprocessing import MinMaxScaler,StandardScaler\n",
    "from sklearn.model_selection import train_test_split\n",
    "from keras.models import Sequential\n",
    "from keras.layers import SimpleRNN,LSTM,Dense,Dropout"
   ]
  },
  {
   "cell_type": "code",
   "execution_count": 465,
   "metadata": {},
   "outputs": [],
   "source": [
    "stocks = yf.Ticker(\"goog\")"
   ]
  },
  {
   "cell_type": "code",
   "execution_count": 466,
   "metadata": {},
   "outputs": [],
   "source": [
    "scale = MinMaxScaler(feature_range=(0,1))\n",
    "# scale = StandardScaler()\n",
    "prices = np.array(stocks.history(period='5y')['Open'])\n",
    "prices = scale.fit_transform(prices.reshape(-1,1))"
   ]
  },
  {
   "cell_type": "code",
   "execution_count": 467,
   "metadata": {},
   "outputs": [],
   "source": [
    "x = []\n",
    "y = []"
   ]
  },
  {
   "cell_type": "code",
   "execution_count": 468,
   "metadata": {},
   "outputs": [],
   "source": [
    "steps = 30"
   ]
  },
  {
   "cell_type": "code",
   "execution_count": 469,
   "metadata": {},
   "outputs": [],
   "source": [
    "for i in range(0,len(prices)-steps-1):\n",
    "    x.append(prices[i:i+steps,0])\n",
    "    y.append(prices[i+steps,0])\n",
    "x = np.array(x)\n",
    "x = x.reshape(x.shape[0],x.shape[1],1)\n",
    "\n",
    "y = np.array(y)"
   ]
  },
  {
   "cell_type": "code",
   "execution_count": 470,
   "metadata": {},
   "outputs": [],
   "source": [
    "split = 0.2"
   ]
  },
  {
   "cell_type": "code",
   "execution_count": 471,
   "metadata": {},
   "outputs": [],
   "source": [
    "xtrain, xtest = x[:len(x)-int(split * len(x))], x[len(x)-int(split * len(x)):]\n",
    "ytrain, ytest = y[:len(y)-int(split * len(y))], y[len(y)-int(split * len(y)):]"
   ]
  },
  {
   "cell_type": "code",
   "execution_count": 472,
   "metadata": {},
   "outputs": [],
   "source": [
    "model = Sequential()\n",
    "model.add(SimpleRNN(100,input_shape = (x.shape[1],1)))\n",
    "model.add(Dropout(0.6))\n",
    "model.add(Dense(1))"
   ]
  },
  {
   "cell_type": "code",
   "execution_count": 473,
   "metadata": {},
   "outputs": [],
   "source": [
    "model.compile(optimizer='adam',loss='mean_squared_error')"
   ]
  },
  {
   "cell_type": "code",
   "execution_count": 474,
   "metadata": {},
   "outputs": [
    {
     "name": "stdout",
     "output_type": "stream",
     "text": [
      "Epoch 1/5\n"
     ]
    },
    {
     "name": "stdout",
     "output_type": "stream",
     "text": [
      "31/31 [==============================] - 2s 30ms/step - loss: 0.0523\n",
      "Epoch 2/5\n",
      "31/31 [==============================] - 1s 24ms/step - loss: 0.0120\n",
      "Epoch 3/5\n",
      "31/31 [==============================] - 1s 24ms/step - loss: 0.0092\n",
      "Epoch 4/5\n",
      "31/31 [==============================] - 1s 24ms/step - loss: 0.0081\n",
      "Epoch 5/5\n",
      "31/31 [==============================] - 1s 25ms/step - loss: 0.0076\n"
     ]
    }
   ],
   "source": [
    "history = model.fit(xtrain,ytrain,epochs=5)"
   ]
  },
  {
   "cell_type": "code",
   "execution_count": 475,
   "metadata": {},
   "outputs": [
    {
     "name": "stdout",
     "output_type": "stream",
     "text": [
      "8/8 [==============================] - 0s 6ms/step\n"
     ]
    }
   ],
   "source": [
    "ypred = model.predict(xtest)"
   ]
  },
  {
   "cell_type": "markdown",
   "metadata": {},
   "source": [
    "### Evaluation metrics"
   ]
  },
  {
   "cell_type": "code",
   "execution_count": 476,
   "metadata": {},
   "outputs": [
    {
     "name": "stdout",
     "output_type": "stream",
     "text": [
      "MSE is 11.952542921186337\n"
     ]
    }
   ],
   "source": [
    "from sklearn.metrics import *\n",
    "\n",
    "ytest_eval = scale.inverse_transform(ytest.reshape(-1,1))\n",
    "ypred_eval = scale.inverse_transform(ypred.reshape(-1,1))\n",
    "\n",
    "print(\"MSE is {}\".format(mean_squared_error(ytest_eval,ypred_eval)))"
   ]
  },
  {
   "cell_type": "code",
   "execution_count": 477,
   "metadata": {},
   "outputs": [],
   "source": [
    "future_pred_len = 5"
   ]
  },
  {
   "cell_type": "code",
   "execution_count": 478,
   "metadata": {},
   "outputs": [
    {
     "name": "stdout",
     "output_type": "stream",
     "text": [
      "1/1 [==============================] - 0s 26ms/step\n"
     ]
    },
    {
     "name": "stdout",
     "output_type": "stream",
     "text": [
      "1/1 [==============================] - 0s 38ms/step\n",
      "1/1 [==============================] - 0s 25ms/step\n",
      "1/1 [==============================] - 0s 21ms/step\n",
      "1/1 [==============================] - 0s 20ms/step\n"
     ]
    }
   ],
   "source": [
    "last_seq = x[len(x)-int(split * len(x)):].reshape(-1,steps)[-1]\n",
    "future_pred = []\n",
    "for i in range(0,future_pred_len):\n",
    "    pred = model.predict(last_seq.reshape(1,steps,1))\n",
    "    # print(scale.inverse_transform(pred))\n",
    "    future_pred.append((pred))\n",
    "    last_seq = np.hstack((last_seq[1:], pred.reshape(-1)))\n",
    "future_pred = np.array(future_pred)"
   ]
  },
  {
   "cell_type": "code",
   "execution_count": 479,
   "metadata": {},
   "outputs": [
    {
     "data": {
      "text/plain": [
       "<matplotlib.legend.Legend at 0x1e9c7a94bb0>"
      ]
     },
     "execution_count": 479,
     "metadata": {},
     "output_type": "execute_result"
    },
    {
     "data": {
      "image/png": "[encoded data removed]",
      "text/plain": [
       "<Figure size 640x480 with 1 Axes>"
      ]
     },
     "metadata": {},
     "output_type": "display_data"
    }
   ],
   "source": [
    "import matplotlib.pyplot as plt \n",
    "\n",
    "plt.plot(np.vstack((scale.inverse_transform(y.reshape(-1,1)),scale.inverse_transform(future_pred.reshape(-1,1)))), color = 'yellow', label = 'Future')\n",
    "plt.plot(np.vstack((scale.inverse_transform(ytrain.reshape(-1,1)),scale.inverse_transform(ypred.reshape(-1,1)))), color = 'red', label = 'Predicted')\n",
    "plt.plot(np.vstack((scale.inverse_transform(ytrain.reshape(-1,1)),scale.inverse_transform(ytest.reshape(-1,1)))), color = 'blue', label = 'Original')\n",
    "plt.legend()"
   ]
  },
  {
   "cell_type": "code",
   "execution_count": 480,
   "metadata": {},
   "outputs": [
    {
     "data": {
      "text/plain": [
       "array([[144.94176],\n",
       "       [145.04105],\n",
       "       [144.89896],\n",
       "       [145.92592],\n",
       "       [145.29457]], dtype=float32)"
      ]
     },
     "execution_count": 480,
     "metadata": {},
     "output_type": "execute_result"
    }
   ],
   "source": [
    "scale.inverse_transform(future_pred.reshape(-1,1))"
   ]
  }
 ],
 "metadata": {
  "kernelspec": {
   "display_name": "ml",
   "language": "python",
   "name": "python3"
  },
  "language_info": {
   "codemirror_mode": {
    "name": "ipython",
    "version": 3
   },
   "file_extension": ".py",
   "mimetype": "text/x-python",
   "name": "python",
   "nbconvert_exporter": "python",
   "pygments_lexer": "ipython3",
   "version": "3.10.13"
  }
 },
 "nbformat": 4,
 "nbformat_minor": 2
}
